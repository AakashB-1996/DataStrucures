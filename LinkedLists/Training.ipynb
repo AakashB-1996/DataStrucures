class linkedNode:
    def __init__(self,value = None,next = None):
        self.value = value
        self.next = next


class linkedList:
    def __init__(self,head = None):
        self.head = head
    
    def insertHead(self,value):
        new = linkedNode(value,self.head)
        self.head = new
    
    def insertTail(self,value):
        if self.head is None:
            self.insertHead(value)
        else:
            pointer = self.head
            while pointer.next:
                pointer = pointer.next
            pointer.next = linkedNode(value)
    
    def insertValues(self,listOfValues):
        for value in listOfValues:
            self.insertTail(value)

    def getLength(self):
        counter = 0
        pointer = self.head

        while pointer:
            counter += 1
            pointer = pointer.next
        
        return counter
    
    def removeNode(self,value):
        if value >= self.getLength():
            return 'Index Value is out of range'
        
        counter = 0
        pointer = self.head

        while pointer:
            if counter == value-1:
                pointer.next = pointer.next.next 
            elif value == 0:
                self.head = self.head.next
                return
            pointer = pointer.next
            counter +=1

    def insertAtIndex(self,value,index):
        if index <0 or index >self.getLength()+1:
            return 'Index out of range'
        
        elif index == self.getLength():
            self.insertTail(value)
            return
        
        elif index == 0 :
            self.insertHead(value)
            return
        
        else:
            temp = linkedNode(value)
            counter = 0
            pointer = self.head

            while pointer:
                if counter == index -1:
                    temp.next = pointer.next
                    pointer.next = temp
                    return
    def insert_after_value(self, data_after, data_to_insert):
        newNode = LinkedNode(data_to_insert)
        pointer = self.head

        while pointer:
            if pointer.value == data_after:
                newNode.next = pointer.next
                pointer.next = newNode
                return
            pointer = pointer.next

        return 'Data not in the Linked list'

    def remove_by_value(self, data):
        index = 0
        pointer = self.head

        while pointer:
            if pointer.value == data:
                self.removeNode(index)
                return
            pointer = pointer.next
            index += 1

        return 'Data not in the Linked list'

    
    def seeLinkedList(self):
        if self.head is None:
            print('Empty Linked list')
            return
        
        pointer = self.head

        while pointer:
            print(pointer.value,end = '---->')
            pointer = pointer.next
